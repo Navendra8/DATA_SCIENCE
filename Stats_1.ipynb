{
 "cells": [
  {
   "cell_type": "markdown",
   "metadata": {},
   "source": [
    "    1. Quantitative\n",
    "        a. discrete\n",
    "        b. continuous\n",
    "    2. Categorial\n",
    "           a. Ordinal\n",
    "           b. Nominal"
   ]
  },
  {
   "cell_type": "markdown",
   "metadata": {},
   "source": [
    "#### Measure of center\n",
    "\n",
    "    1. mean\n",
    "    2. median\n",
    "    3. mode"
   ]
  },
  {
   "cell_type": "code",
   "execution_count": 1,
   "metadata": {},
   "outputs": [],
   "source": [
    "### read advantages and disadvantages of above terms"
   ]
  },
  {
   "cell_type": "markdown",
   "metadata": {},
   "source": [
    "### Mean\n",
    "    \n",
    "        1. It is used to find the average value or the mid value\n",
    "        2. It is effected by the outliers bcz in mean we add the values or mean depend on the values\n",
    "        \n",
    "         formula for mean\n",
    "\n",
    "$$ mean = \\frac {\\sum\\limits_{i=0}^N x_i} {N} $$"
   ]
  },
  {
   "cell_type": "code",
   "execution_count": 3,
   "metadata": {},
   "outputs": [
    {
     "data": {
      "text/plain": [
       "11.4"
      ]
     },
     "execution_count": 3,
     "metadata": {},
     "output_type": "execute_result"
    }
   ],
   "source": [
    "ages = [10,11,12,10,11,13,12,10,12,13]\n",
    "sum(ages)/len(ages)"
   ]
  },
  {
   "cell_type": "code",
   "execution_count": 4,
   "metadata": {},
   "outputs": [],
   "source": [
    "ages.append(30)"
   ]
  },
  {
   "cell_type": "code",
   "execution_count": 5,
   "metadata": {},
   "outputs": [
    {
     "data": {
      "text/plain": [
       "[10, 11, 12, 10, 11, 13, 12, 10, 12, 13, 30]"
      ]
     },
     "execution_count": 5,
     "metadata": {},
     "output_type": "execute_result"
    }
   ],
   "source": [
    "ages"
   ]
  },
  {
   "cell_type": "code",
   "execution_count": 7,
   "metadata": {},
   "outputs": [
    {
     "data": {
      "text/plain": [
       "144"
      ]
     },
     "execution_count": 7,
     "metadata": {},
     "output_type": "execute_result"
    }
   ],
   "source": [
    "sum(ages)"
   ]
  },
  {
   "cell_type": "code",
   "execution_count": 6,
   "metadata": {},
   "outputs": [
    {
     "data": {
      "text/plain": [
       "13.090909090909092"
      ]
     },
     "execution_count": 6,
     "metadata": {},
     "output_type": "execute_result"
    }
   ],
   "source": [
    "sum(ages)/len(ages)"
   ]
  },
  {
   "cell_type": "code",
   "execution_count": 8,
   "metadata": {},
   "outputs": [],
   "source": [
    "import numpy as np"
   ]
  },
  {
   "cell_type": "code",
   "execution_count": 9,
   "metadata": {},
   "outputs": [],
   "source": [
    "ages = np.random.randint(10,20,1000)"
   ]
  },
  {
   "cell_type": "code",
   "execution_count": 10,
   "metadata": {},
   "outputs": [
    {
     "data": {
      "text/plain": [
       "array([13, 18, 12, 15, 15, 10, 16, 16, 13, 17, 14, 17, 11, 13, 17, 17, 16,\n",
       "       12, 18, 15, 11, 16, 19, 13, 18, 16, 14, 12, 18, 12, 18, 15, 19, 12,\n",
       "       12, 19, 19, 13, 11, 19, 15, 14, 12, 13, 11, 18, 13, 18, 18, 16, 11,\n",
       "       19, 15, 14, 18, 16, 16, 17, 19, 15, 17, 10, 11, 15, 16, 11, 19, 19,\n",
       "       13, 11, 12, 17, 13, 18, 13, 10, 16, 19, 10, 12, 10, 17, 19, 19, 10,\n",
       "       17, 15, 18, 11, 15, 10, 19, 14, 11, 18, 18, 11, 12, 19, 18, 16, 16,\n",
       "       11, 15, 14, 11, 18, 15, 17, 15, 16, 15, 11, 19, 10, 18, 11, 17, 16,\n",
       "       11, 17, 10, 13, 14, 19, 16, 16, 19, 19, 14, 15, 12, 17, 14, 14, 18,\n",
       "       11, 17, 11, 16, 18, 11, 17, 14, 18, 13, 13, 14, 19, 13, 19, 14, 14,\n",
       "       17, 19, 14, 19, 13, 16, 12, 11, 17, 16, 17, 19, 15, 17, 17, 19, 10,\n",
       "       18, 19, 18, 16, 18, 12, 11, 17, 13, 12, 14, 11, 19, 16, 19, 15, 13,\n",
       "       14, 15, 11, 10, 10, 17, 19, 11, 16, 15, 11, 18, 11, 19, 16, 12, 12,\n",
       "       17, 15, 15, 17, 16, 19, 15, 15, 16, 14, 19, 11, 14, 11, 13, 18, 15,\n",
       "       18, 15, 17, 19, 15, 19, 15, 12, 12, 18, 15, 12, 10, 17, 16, 17, 10,\n",
       "       16, 13, 14, 18, 11, 11, 11, 16, 12, 14, 11, 10, 13, 15, 14, 13, 15,\n",
       "       15, 17, 15, 13, 15, 19, 18, 13, 15, 11, 17, 18, 16, 15, 17, 18, 14,\n",
       "       14, 10, 13, 10, 17, 17, 13, 16, 13, 15, 10, 13, 17, 11, 10, 18, 10,\n",
       "       11, 14, 19, 12, 14, 12, 17, 15, 17, 18, 18, 18, 17, 16, 12, 11, 10,\n",
       "       15, 18, 18, 16, 18, 19, 12, 10, 12, 16, 14, 16, 15, 10, 11, 19, 15,\n",
       "       12, 13, 17, 17, 13, 13, 17, 13, 14, 12, 19, 10, 15, 12, 10, 15, 12,\n",
       "       13, 17, 19, 12, 14, 10, 15, 16, 15, 16, 13, 13, 13, 19, 13, 17, 17,\n",
       "       11, 15, 12, 12, 16, 17, 10, 16, 13, 12, 15, 15, 19, 19, 17, 17, 11,\n",
       "       10, 14, 12, 15, 18, 18, 13, 19, 11, 19, 14, 11, 10, 18, 10, 11, 17,\n",
       "       12, 16, 11, 17, 10, 18, 19, 12, 15, 11, 13, 11, 14, 15, 12, 19, 14,\n",
       "       13, 15, 19, 11, 10, 12, 17, 10, 16, 18, 11, 11, 12, 19, 10, 11, 10,\n",
       "       16, 10, 14, 12, 19, 13, 15, 10, 14, 10, 14, 13, 10, 16, 16, 17, 12,\n",
       "       14, 14, 10, 17, 11, 17, 10, 18, 14, 19, 17, 18, 16, 18, 17, 17, 19,\n",
       "       17, 13, 18, 16, 17, 11, 11, 19, 13, 12, 10, 19, 16, 10, 18, 18, 12,\n",
       "       11, 16, 10, 18, 11, 19, 14, 10, 17, 10, 13, 17, 15, 17, 10, 16, 16,\n",
       "       12, 11, 17, 14, 16, 12, 18, 11, 18, 18, 10, 10, 15, 15, 18, 16, 16,\n",
       "       12, 15, 12, 11, 17, 15, 18, 19, 15, 11, 11, 18, 19, 14, 17, 13, 15,\n",
       "       13, 10, 17, 11, 15, 17, 19, 19, 10, 10, 14, 13, 13, 10, 17, 14, 17,\n",
       "       15, 15, 11, 18, 17, 10, 15, 10, 18, 15, 14, 16, 14, 15, 19, 18, 19,\n",
       "       14, 10, 10, 18, 18, 18, 19, 14, 10, 11, 18, 17, 12, 18, 18, 12, 13,\n",
       "       17, 19, 16, 15, 11, 12, 12, 10, 18, 11, 13, 18, 15, 12, 11, 10, 10,\n",
       "       13, 14, 16, 17, 15, 11, 10, 16, 16, 13, 16, 14, 17, 13, 19, 14, 11,\n",
       "       11, 12, 15, 18, 14, 18, 13, 10, 16, 10, 19, 13, 15, 15, 13, 14, 17,\n",
       "       18, 12, 15, 16, 12, 16, 18, 15, 13, 11, 15, 10, 18, 11, 17, 12, 13,\n",
       "       19, 19, 11, 12, 11, 16, 16, 12, 12, 16, 16, 18, 14, 11, 12, 15, 12,\n",
       "       13, 19, 14, 15, 14, 15, 19, 12, 15, 17, 10, 10, 10, 13, 14, 18, 11,\n",
       "       16, 11, 19, 11, 17, 11, 10, 19, 14, 11, 12, 14, 10, 15, 11, 12, 19,\n",
       "       12, 19, 18, 12, 18, 18, 12, 13, 10, 13, 14, 18, 13, 19, 11, 12, 11,\n",
       "       17, 11, 13, 11, 14, 15, 10, 18, 18, 17, 17, 14, 16, 19, 13, 17, 19,\n",
       "       17, 18, 19, 11, 13, 12, 13, 19, 16, 13, 15, 13, 19, 15, 16, 14, 19,\n",
       "       17, 11, 13, 11, 13, 17, 15, 18, 15, 18, 17, 16, 19, 13, 16, 11, 12,\n",
       "       17, 19, 14, 12, 13, 18, 11, 13, 14, 16, 15, 13, 17, 13, 14, 17, 12,\n",
       "       15, 16, 19, 13, 17, 12, 18, 10, 16, 14, 19, 13, 17, 17, 11, 17, 17,\n",
       "       11, 13, 11, 18, 14, 16, 10, 13, 18, 11, 10, 17, 18, 18, 14, 10, 14,\n",
       "       14, 10, 11, 16, 18, 14, 15, 10, 16, 17, 16, 17, 19, 13, 16, 15, 11,\n",
       "       18, 14, 11, 15, 13, 16, 14, 13, 18, 14, 12, 10, 14, 18, 12, 11, 17,\n",
       "       15, 11, 14, 11, 17, 15, 19, 17, 11, 14, 18, 11, 13, 19, 15, 10, 11,\n",
       "       16, 19, 10, 10, 10, 18, 18, 15, 16, 10, 11, 18, 11, 10, 17, 19, 11,\n",
       "       17, 10, 13, 13, 11, 11, 17, 17, 12, 11, 15, 12, 11, 14, 18, 15, 18,\n",
       "       19, 19, 15, 15, 12, 17, 15, 18, 15, 19, 18, 15, 18, 17, 14, 14, 18,\n",
       "       11, 16, 12, 14, 17, 19, 19, 13, 13, 10, 18, 16, 11, 13, 19, 13, 17,\n",
       "       10, 12, 15, 18, 11, 12, 18, 14, 19, 16, 15, 13, 11, 19, 19, 13, 13,\n",
       "       11, 16, 17, 15, 15, 14, 10, 16, 15, 18, 12, 18, 12, 14, 14, 15, 11,\n",
       "       14, 18, 13, 13, 16, 17, 14, 17, 19, 11, 14, 16, 15, 18, 15, 17, 15,\n",
       "       18, 15, 13, 12, 17, 10, 18, 12, 16, 13, 11, 16, 12, 17])"
      ]
     },
     "execution_count": 10,
     "metadata": {},
     "output_type": "execute_result"
    }
   ],
   "source": [
    "ages"
   ]
  },
  {
   "cell_type": "code",
   "execution_count": 11,
   "metadata": {},
   "outputs": [],
   "source": [
    "mean = sum(ages)/len(ages)"
   ]
  },
  {
   "cell_type": "code",
   "execution_count": 12,
   "metadata": {},
   "outputs": [
    {
     "data": {
      "text/plain": [
       "14.581"
      ]
     },
     "execution_count": 12,
     "metadata": {},
     "output_type": "execute_result"
    }
   ],
   "source": [
    "mean"
   ]
  },
  {
   "cell_type": "code",
   "execution_count": 13,
   "metadata": {},
   "outputs": [],
   "source": [
    "ages = np.append(ages,[50])"
   ]
  },
  {
   "cell_type": "code",
   "execution_count": 14,
   "metadata": {},
   "outputs": [],
   "source": [
    "mean = sum(ages)/len(ages)"
   ]
  },
  {
   "cell_type": "code",
   "execution_count": 15,
   "metadata": {},
   "outputs": [
    {
     "data": {
      "text/plain": [
       "14.616383616383617"
      ]
     },
     "execution_count": 15,
     "metadata": {},
     "output_type": "execute_result"
    }
   ],
   "source": [
    "mean"
   ]
  },
  {
   "cell_type": "code",
   "execution_count": 16,
   "metadata": {},
   "outputs": [],
   "source": [
    "ages = np.append(ages,[500])"
   ]
  },
  {
   "cell_type": "code",
   "execution_count": 47,
   "metadata": {},
   "outputs": [],
   "source": [
    "def mean(ages):\n",
    "    return sum(ages)/len(ages)"
   ]
  },
  {
   "cell_type": "code",
   "execution_count": 18,
   "metadata": {},
   "outputs": [
    {
     "data": {
      "text/plain": [
       "15.100798403193613"
      ]
     },
     "execution_count": 18,
     "metadata": {},
     "output_type": "execute_result"
    }
   ],
   "source": [
    "mean(ages)"
   ]
  },
  {
   "cell_type": "code",
   "execution_count": 19,
   "metadata": {},
   "outputs": [],
   "source": [
    "ages = np.append(ages,[1000,1000])"
   ]
  },
  {
   "cell_type": "code",
   "execution_count": 20,
   "metadata": {},
   "outputs": [
    {
     "data": {
      "text/plain": [
       "17.062749003984063"
      ]
     },
     "execution_count": 20,
     "metadata": {},
     "output_type": "execute_result"
    }
   ],
   "source": [
    "mean(ages)  #shift , outlier "
   ]
  },
  {
   "cell_type": "code",
   "execution_count": 21,
   "metadata": {},
   "outputs": [],
   "source": [
    "import matplotlib.pyplot as plt"
   ]
  },
  {
   "cell_type": "code",
   "execution_count": 22,
   "metadata": {},
   "outputs": [],
   "source": [
    "plt.rcParams['figure.figsize'] = 11,5"
   ]
  },
  {
   "cell_type": "code",
   "execution_count": 23,
   "metadata": {},
   "outputs": [],
   "source": [
    "plt.style.use(\"seaborn-whitegrid\")"
   ]
  },
  {
   "cell_type": "code",
   "execution_count": 26,
   "metadata": {},
   "outputs": [],
   "source": [
    "ages = np.random.randint(10,20,1000)"
   ]
  },
  {
   "cell_type": "code",
   "execution_count": 29,
   "metadata": {},
   "outputs": [
    {
     "data": {
      "image/png": "[encoded data removed]",
      "text/plain": [
       "<Figure size 792x360 with 1 Axes>"
      ]
     },
     "metadata": {},
     "output_type": "display_data"
    }
   ],
   "source": [
    "plt.plot(ages,'o')\n",
    "plt.show()"
   ]
  },
  {
   "cell_type": "code",
   "execution_count": 32,
   "metadata": {},
   "outputs": [
    {
     "data": {
      "image/png": "[encoded data removed]",
      "text/plain": [
       "<Figure size 792x360 with 1 Axes>"
      ]
     },
     "metadata": {},
     "output_type": "display_data"
    }
   ],
   "source": [
    "plt.hist(ages,bins=30)\n",
    "plt.show()"
   ]
  },
  {
   "cell_type": "code",
   "execution_count": 33,
   "metadata": {},
   "outputs": [],
   "source": [
    "ages = np.append(ages,[1000,1000])"
   ]
  },
  {
   "cell_type": "code",
   "execution_count": 34,
   "metadata": {},
   "outputs": [
    {
     "data": {
      "image/png": "[encoded data removed]",
      "text/plain": [
       "<Figure size 792x360 with 1 Axes>"
      ]
     },
     "metadata": {},
     "output_type": "display_data"
    }
   ],
   "source": [
    "plt.plot(ages,'o')\n",
    "plt.show()"
   ]
  },
  {
   "cell_type": "code",
   "execution_count": 38,
   "metadata": {},
   "outputs": [
    {
     "data": {
      "text/plain": [
       "array([  18,   19,   15, ...,   14, 1000, 1000])"
      ]
     },
     "execution_count": 38,
     "metadata": {},
     "output_type": "execute_result"
    }
   ],
   "source": [
    "ages"
   ]
  },
  {
   "cell_type": "code",
   "execution_count": 36,
   "metadata": {},
   "outputs": [
    {
     "data": {
      "image/png": "[encoded data removed]",
      "text/plain": [
       "<Figure size 792x360 with 1 Axes>"
      ]
     },
     "metadata": {},
     "output_type": "display_data"
    }
   ],
   "source": [
    "plt.hist(ages)\n",
    "plt.show()"
   ]
  },
  {
   "cell_type": "code",
   "execution_count": 39,
   "metadata": {},
   "outputs": [
    {
     "data": {
      "text/plain": [
       "16.498003992015967"
      ]
     },
     "execution_count": 39,
     "metadata": {},
     "output_type": "execute_result"
    }
   ],
   "source": [
    "mean(ages)"
   ]
  },
  {
   "cell_type": "code",
   "execution_count": 40,
   "metadata": {},
   "outputs": [],
   "source": [
    "ages = np.random.randint(10,20,10)"
   ]
  },
  {
   "cell_type": "code",
   "execution_count": 43,
   "metadata": {},
   "outputs": [
    {
     "data": {
      "text/plain": [
       "14.0"
      ]
     },
     "execution_count": 43,
     "metadata": {},
     "output_type": "execute_result"
    }
   ],
   "source": [
    "mean(ages)"
   ]
  },
  {
   "cell_type": "markdown",
   "metadata": {},
   "source": [
    "    When we draw line we need 2 points\n",
    "    \n",
    "        (x1,y1)o-----------------o(x2,y2)\n",
    "        \n",
    "        "
   ]
  },
  {
   "cell_type": "code",
   "execution_count": 51,
   "metadata": {},
   "outputs": [
    {
     "data": {
      "image/png": "[encoded data removed]",
      "text/plain": [
       "<Figure size 792x360 with 1 Axes>"
      ]
     },
     "metadata": {},
     "output_type": "display_data"
    }
   ],
   "source": [
    "x1,x2 = 5,10\n",
    "y1,y2 = 4,7\n",
    "plt.plot([x1,x2],[y1,y2])\n",
    "plt.show()"
   ]
  },
  {
   "cell_type": "code",
   "execution_count": 50,
   "metadata": {},
   "outputs": [
    {
     "data": {
      "text/plain": [
       "[<matplotlib.lines.Line2D at 0x23bb34b49c8>]"
      ]
     },
     "execution_count": 50,
     "metadata": {},
     "output_type": "execute_result"
    },
    {
     "data": {
      "image/png": "[encoded data removed]",
      "text/plain": [
       "<Figure size 792x360 with 1 Axes>"
      ]
     },
     "metadata": {},
     "output_type": "display_data"
    }
   ],
   "source": [
    "plt.plot(ages,'ro')\n",
    "m = mean(ages)\n",
    "a1 = ages.copy()\n",
    "a1 = np.append(a1,50)\n",
    "m2 = mean(a1)\n",
    "plt.plot([0,10],[m,m],'k--')  #plt.plot(x_points,y_points)\n",
    "#plt.plot([x1,x2])\n",
    "plt.plot([0,10],[m2,m2],'b--')"
   ]
  },
  {
   "cell_type": "code",
   "execution_count": 52,
   "metadata": {},
   "outputs": [
    {
     "data": {
      "text/plain": [
       "[<matplotlib.lines.Line2D at 0x23bb3559788>]"
      ]
     },
     "execution_count": 52,
     "metadata": {},
     "output_type": "execute_result"
    },
    {
     "data": {
      "image/png": "[encoded data removed]",
      "text/plain": [
       "<Figure size 792x360 with 1 Axes>"
      ]
     },
     "metadata": {},
     "output_type": "display_data"
    }
   ],
   "source": [
    "plt.plot(ages,'ro')\n",
    "m = mean(ages)\n",
    "a1 = ages.copy()\n",
    "a1 = np.append(a1,50)\n",
    "m2 = mean(a1)\n",
    "#plt.plot([0,10],[m,m],'k--')  #plt.plot(x_points,y_points)\n",
    "#plt.plot([x1,x2])\n",
    "plt.plot([0,10],[m2,m2],'b--')"
   ]
  },
  {
   "cell_type": "markdown",
   "metadata": {},
   "source": [
    "### Median\n",
    "\n",
    "    1. It give mid value\n",
    "    2. Does not effect with outlier\n",
    "        it depend on positive/number of element not value\n",
    "    3. median can be find on sorted data"
   ]
  },
  {
   "cell_type": "code",
   "execution_count": 53,
   "metadata": {},
   "outputs": [
    {
     "data": {
      "text/plain": [
       "array([13, 10, 15, 17, 17, 11, 10, 15, 18, 14])"
      ]
     },
     "execution_count": 53,
     "metadata": {},
     "output_type": "execute_result"
    }
   ],
   "source": [
    "ages"
   ]
  },
  {
   "cell_type": "code",
   "execution_count": 54,
   "metadata": {},
   "outputs": [
    {
     "data": {
      "text/plain": [
       "10"
      ]
     },
     "execution_count": 54,
     "metadata": {},
     "output_type": "execute_result"
    }
   ],
   "source": [
    "len(ages)"
   ]
  },
  {
   "cell_type": "code",
   "execution_count": 55,
   "metadata": {},
   "outputs": [],
   "source": [
    "ages = np.append(ages,15)"
   ]
  },
  {
   "cell_type": "code",
   "execution_count": 56,
   "metadata": {},
   "outputs": [
    {
     "data": {
      "text/plain": [
       "array([13, 10, 15, 17, 17, 11, 10, 15, 18, 14, 15])"
      ]
     },
     "execution_count": 56,
     "metadata": {},
     "output_type": "execute_result"
    }
   ],
   "source": [
    "ages"
   ]
  },
  {
   "cell_type": "code",
   "execution_count": 57,
   "metadata": {},
   "outputs": [
    {
     "data": {
      "text/plain": [
       "11"
      ]
     },
     "execution_count": 57,
     "metadata": {},
     "output_type": "execute_result"
    }
   ],
   "source": [
    "len(ages)"
   ]
  },
  {
   "cell_type": "markdown",
   "metadata": {},
   "source": [
    "### Median for odd number of values\n",
    "\n",
    "     N = len(array)\n",
    "     i = N+1/2\n",
    "     array[i] (median)"
   ]
  },
  {
   "cell_type": "code",
   "execution_count": 59,
   "metadata": {},
   "outputs": [],
   "source": [
    "### data must be in sorted form"
   ]
  },
  {
   "cell_type": "code",
   "execution_count": 60,
   "metadata": {},
   "outputs": [],
   "source": [
    "ages.sort()"
   ]
  },
  {
   "cell_type": "code",
   "execution_count": 61,
   "metadata": {},
   "outputs": [
    {
     "data": {
      "text/plain": [
       "array([10, 10, 11, 13, 14, 15, 15, 15, 17, 17, 18])"
      ]
     },
     "execution_count": 61,
     "metadata": {},
     "output_type": "execute_result"
    }
   ],
   "source": [
    "ages"
   ]
  },
  {
   "cell_type": "code",
   "execution_count": 62,
   "metadata": {},
   "outputs": [
    {
     "name": "stdout",
     "output_type": "stream",
     "text": [
      "6\n"
     ]
    },
    {
     "data": {
      "text/plain": [
       "15"
      ]
     },
     "execution_count": 62,
     "metadata": {},
     "output_type": "execute_result"
    }
   ],
   "source": [
    "N = len(ages)\n",
    "i = int((N+1)/2)\n",
    "print(i)\n",
    "ages[i]"
   ]
  },
  {
   "cell_type": "code",
   "execution_count": 63,
   "metadata": {},
   "outputs": [],
   "source": [
    "ages = np.append(ages,[50,50])"
   ]
  },
  {
   "cell_type": "code",
   "execution_count": 64,
   "metadata": {},
   "outputs": [
    {
     "name": "stdout",
     "output_type": "stream",
     "text": [
      "7\n"
     ]
    },
    {
     "data": {
      "text/plain": [
       "15"
      ]
     },
     "execution_count": 64,
     "metadata": {},
     "output_type": "execute_result"
    }
   ],
   "source": [
    "N = len(ages)\n",
    "i = int((N+1)/2)\n",
    "print(i)\n",
    "ages[i]"
   ]
  },
  {
   "cell_type": "code",
   "execution_count": 71,
   "metadata": {},
   "outputs": [],
   "source": [
    "a = np.random.randint(10,20,1001)"
   ]
  },
  {
   "cell_type": "code",
   "execution_count": 72,
   "metadata": {},
   "outputs": [
    {
     "data": {
      "text/plain": [
       "14.49050949050949"
      ]
     },
     "execution_count": 72,
     "metadata": {},
     "output_type": "execute_result"
    }
   ],
   "source": [
    "mean(a)"
   ]
  },
  {
   "cell_type": "code",
   "execution_count": 73,
   "metadata": {},
   "outputs": [],
   "source": [
    "a.sort()"
   ]
  },
  {
   "cell_type": "code",
   "execution_count": 74,
   "metadata": {},
   "outputs": [
    {
     "name": "stdout",
     "output_type": "stream",
     "text": [
      "501\n",
      "14\n"
     ]
    }
   ],
   "source": [
    "N = len(a)\n",
    "i = int((N+1)/2)\n",
    "print(i)\n",
    "median = a[i]\n",
    "print(median)"
   ]
  },
  {
   "cell_type": "code",
   "execution_count": 75,
   "metadata": {},
   "outputs": [
    {
     "name": "stdout",
     "output_type": "stream",
     "text": [
      "\n",
      " Mean and median before adding the outlier is : \n",
      "\n",
      " Mean :  14.488511488511488\n",
      "\n",
      " Median :  15\n",
      "\n",
      " Mean and median after adding the outlier\n",
      "\n",
      " Mean :  16.453639082751746\n",
      "\n",
      " Median :  15\n"
     ]
    }
   ],
   "source": [
    "#now add the outlier\n",
    "print(\"\\n Mean and median before adding the outlier is : \")\n",
    "a = np.random.randint(10,20,1001)\n",
    "print(\"\\n Mean : \",mean(a))\n",
    "a.sort()\n",
    "N = len(a)\n",
    "i = int((N+1)/2)\n",
    "median = a[i]\n",
    "print(\"\\n Median : \",median)\n",
    "print(\"\\n Mean and median after adding the outlier\")\n",
    "a1 = np.append(a,[1000,1000])\n",
    "print(\"\\n Mean : \",mean(a1))\n",
    "N = len(a1)\n",
    "i = int((N+1)/2)\n",
    "median = a1[i]\n",
    "print(\"\\n Median : \",median)"
   ]
  },
  {
   "cell_type": "code",
   "execution_count": 80,
   "metadata": {},
   "outputs": [
    {
     "data": {
      "text/plain": [
       "numpy.ndarray"
      ]
     },
     "execution_count": 80,
     "metadata": {},
     "output_type": "execute_result"
    }
   ],
   "source": [
    "type(a)"
   ]
  },
  {
   "cell_type": "code",
   "execution_count": 81,
   "metadata": {},
   "outputs": [
    {
     "data": {
      "text/plain": [
       "14.488511488511488"
      ]
     },
     "execution_count": 81,
     "metadata": {},
     "output_type": "execute_result"
    }
   ],
   "source": [
    "a.mean()"
   ]
  },
  {
   "cell_type": "code",
   "execution_count": 83,
   "metadata": {},
   "outputs": [
    {
     "data": {
      "text/plain": [
       "15.0"
      ]
     },
     "execution_count": 83,
     "metadata": {},
     "output_type": "execute_result"
    }
   ],
   "source": [
    "np.median(a)"
   ]
  },
  {
   "cell_type": "code",
   "execution_count": 84,
   "metadata": {},
   "outputs": [],
   "source": [
    "def median(a):\n",
    "    #only if the len(a) is odd\n",
    "    a.sort()\n",
    "    N = len(a1)\n",
    "    i = int((N+1)/2)\n",
    "    median = a1[i]\n",
    "    return median"
   ]
  },
  {
   "cell_type": "code",
   "execution_count": 87,
   "metadata": {},
   "outputs": [
    {
     "data": {
      "image/png": "[encoded data removed]",
      "text/plain": [
       "<Figure size 792x360 with 1 Axes>"
      ]
     },
     "metadata": {},
     "output_type": "display_data"
    }
   ],
   "source": [
    "ages = [13, 10, 15, 17, 17, 11, 10, 15, 18, 14, 15]\n",
    "plt.plot(ages,'o')\n",
    "mean1 = mean(ages)\n",
    "med1 = median(ages)\n",
    "plt.plot([0,11],[mean1,mean1],'k--',label=\"Mean Before Out\")\n",
    "plt.plot([0,11],[med1,med1],'r--',label=\"Median before Out\")\n",
    "age1 = ages.copy()\n",
    "age1.extend([50,50])\n",
    "mean2 = mean(age1)\n",
    "med2 = median(age1)\n",
    "plt.plot([0,11],[mean2,mean2],'m.-',label=\"Mean after Out\")\n",
    "plt.plot([0,11],[med2,med2],'b.-',label=\"Median after Out\")\n",
    "plt.legend()\n",
    "plt.show()"
   ]
  },
  {
   "cell_type": "code",
   "execution_count": 77,
   "metadata": {},
   "outputs": [
    {
     "data": {
      "text/plain": [
       "[<matplotlib.lines.Line2D at 0x23bb34f6508>]"
      ]
     },
     "execution_count": 77,
     "metadata": {},
     "output_type": "execute_result"
    },
    {
     "data": {
      "image/png": "[encoded data removed]",
      "text/plain": [
       "<Figure size 792x360 with 1 Axes>"
      ]
     },
     "metadata": {},
     "output_type": "display_data"
    }
   ],
   "source": [
    "plt.plot(ages,'o')"
   ]
  },
  {
   "cell_type": "markdown",
   "metadata": {},
   "source": [
    "### Median for even number of values\n",
    "\n",
    "    N = len(array)\n",
    "    N --> even\n",
    "    i1 = N/2 , i2 = N+2/2\n",
    "    median = (array[i1] + array[i2]) / 2"
   ]
  },
  {
   "cell_type": "code",
   "execution_count": 88,
   "metadata": {},
   "outputs": [
    {
     "data": {
      "text/plain": [
       "11"
      ]
     },
     "execution_count": 88,
     "metadata": {},
     "output_type": "execute_result"
    }
   ],
   "source": [
    "len(ages)"
   ]
  },
  {
   "cell_type": "code",
   "execution_count": 89,
   "metadata": {},
   "outputs": [],
   "source": [
    "ages.append(13)"
   ]
  },
  {
   "cell_type": "code",
   "execution_count": 90,
   "metadata": {},
   "outputs": [
    {
     "data": {
      "text/plain": [
       "[10, 10, 11, 13, 14, 15, 15, 15, 17, 17, 18, 13]"
      ]
     },
     "execution_count": 90,
     "metadata": {},
     "output_type": "execute_result"
    }
   ],
   "source": [
    "ages"
   ]
  },
  {
   "cell_type": "code",
   "execution_count": 91,
   "metadata": {},
   "outputs": [
    {
     "data": {
      "text/plain": [
       "12"
      ]
     },
     "execution_count": 91,
     "metadata": {},
     "output_type": "execute_result"
    }
   ],
   "source": [
    "len(ages)"
   ]
  },
  {
   "cell_type": "code",
   "execution_count": 92,
   "metadata": {},
   "outputs": [],
   "source": [
    "ages.sort()"
   ]
  },
  {
   "cell_type": "code",
   "execution_count": 93,
   "metadata": {},
   "outputs": [
    {
     "data": {
      "text/plain": [
       "[10, 10, 11, 13, 13, 14, 15, 15, 15, 17, 17, 18]"
      ]
     },
     "execution_count": 93,
     "metadata": {},
     "output_type": "execute_result"
    }
   ],
   "source": [
    "ages"
   ]
  },
  {
   "cell_type": "code",
   "execution_count": 95,
   "metadata": {},
   "outputs": [
    {
     "name": "stdout",
     "output_type": "stream",
     "text": [
      "6 7\n",
      "15.0\n"
     ]
    }
   ],
   "source": [
    "N = len(ages)\n",
    "i1 = N//2\n",
    "i2 = (N+2)//2\n",
    "print(i1,i2)\n",
    "median = (ages[i1] + ages[i2])/2\n",
    "print(median)"
   ]
  },
  {
   "cell_type": "code",
   "execution_count": 97,
   "metadata": {},
   "outputs": [
    {
     "data": {
      "text/plain": [
       "1001"
      ]
     },
     "execution_count": 97,
     "metadata": {},
     "output_type": "execute_result"
    }
   ],
   "source": [
    "len(a)"
   ]
  },
  {
   "cell_type": "code",
   "execution_count": 98,
   "metadata": {},
   "outputs": [],
   "source": [
    "a = np.append(a,18)"
   ]
  },
  {
   "cell_type": "code",
   "execution_count": 99,
   "metadata": {},
   "outputs": [
    {
     "data": {
      "text/plain": [
       "1002"
      ]
     },
     "execution_count": 99,
     "metadata": {},
     "output_type": "execute_result"
    }
   ],
   "source": [
    "len(a)"
   ]
  },
  {
   "cell_type": "code",
   "execution_count": 100,
   "metadata": {},
   "outputs": [
    {
     "name": "stdout",
     "output_type": "stream",
     "text": [
      "501 502\n",
      "15.0\n"
     ]
    }
   ],
   "source": [
    "a.sort()\n",
    "N = len(a)\n",
    "i1 = N//2\n",
    "i2 = (N+2)//2\n",
    "print(i1,i2)\n",
    "median = (a[i1] + a[i2])/2\n",
    "print(median)"
   ]
  },
  {
   "cell_type": "code",
   "execution_count": 101,
   "metadata": {},
   "outputs": [],
   "source": [
    "### in mean and median the value which it returns is not necessary that it would be present in our actual data"
   ]
  },
  {
   "cell_type": "code",
   "execution_count": 102,
   "metadata": {},
   "outputs": [
    {
     "data": {
      "text/plain": [
       "14.090909090909092"
      ]
     },
     "execution_count": 102,
     "metadata": {},
     "output_type": "execute_result"
    }
   ],
   "source": [
    "mean1"
   ]
  },
  {
   "cell_type": "markdown",
   "metadata": {},
   "source": [
    "### Mode\n",
    "\n",
    "    1. It is used to calculate the value with the highest frequency in the data\n",
    "    2. There can be more than one mode in data\n",
    "    3. Effect with the outlier\n",
    "    4. The value return by the mode is not necessary be the center value"
   ]
  },
  {
   "cell_type": "code",
   "execution_count": 105,
   "metadata": {},
   "outputs": [
    {
     "data": {
      "text/plain": [
       "array([  10,   10,   10, ...,   19, 1000, 1000])"
      ]
     },
     "execution_count": 105,
     "metadata": {},
     "output_type": "execute_result"
    }
   ],
   "source": [
    "a1"
   ]
  },
  {
   "cell_type": "code",
   "execution_count": 106,
   "metadata": {},
   "outputs": [],
   "source": [
    "from statistics import mode"
   ]
  },
  {
   "cell_type": "code",
   "execution_count": 107,
   "metadata": {},
   "outputs": [
    {
     "data": {
      "text/plain": [
       "10"
      ]
     },
     "execution_count": 107,
     "metadata": {},
     "output_type": "execute_result"
    }
   ],
   "source": [
    "mode(a1)"
   ]
  },
  {
   "cell_type": "code",
   "execution_count": 113,
   "metadata": {},
   "outputs": [
    {
     "data": {
      "text/plain": [
       "16.453639082751746"
      ]
     },
     "execution_count": 113,
     "metadata": {},
     "output_type": "execute_result"
    }
   ],
   "source": [
    "mean(a1)"
   ]
  },
  {
   "cell_type": "code",
   "execution_count": 114,
   "metadata": {},
   "outputs": [
    {
     "data": {
      "text/plain": [
       "15.0"
      ]
     },
     "execution_count": 114,
     "metadata": {},
     "output_type": "execute_result"
    }
   ],
   "source": [
    "np.median(a1)\n",
    "#without ourlier mean --> 14.433, median = 15.0"
   ]
  },
  {
   "cell_type": "code",
   "execution_count": 110,
   "metadata": {},
   "outputs": [],
   "source": [
    "age1.extend([50,50])"
   ]
  },
  {
   "cell_type": "code",
   "execution_count": 112,
   "metadata": {},
   "outputs": [
    {
     "data": {
      "text/plain": [
       "50"
      ]
     },
     "execution_count": 112,
     "metadata": {},
     "output_type": "execute_result"
    }
   ],
   "source": [
    "mode(age1)"
   ]
  },
  {
   "cell_type": "code",
   "execution_count": 115,
   "metadata": {},
   "outputs": [],
   "source": [
    "classes = np.random.randint(19,35,50)"
   ]
  },
  {
   "cell_type": "code",
   "execution_count": 116,
   "metadata": {},
   "outputs": [
    {
     "data": {
      "text/plain": [
       "22"
      ]
     },
     "execution_count": 116,
     "metadata": {},
     "output_type": "execute_result"
    }
   ],
   "source": [
    "mode(classes)"
   ]
  },
  {
   "cell_type": "code",
   "execution_count": 117,
   "metadata": {},
   "outputs": [],
   "source": [
    "import seaborn as sns"
   ]
  },
  {
   "cell_type": "code",
   "execution_count": 118,
   "metadata": {},
   "outputs": [
    {
     "data": {
      "text/plain": [
       "<matplotlib.axes._subplots.AxesSubplot at 0x23bb7152d48>"
      ]
     },
     "execution_count": 118,
     "metadata": {},
     "output_type": "execute_result"
    },
    {
     "data": {
      "image/png": "[encoded data removed]",
      "text/plain": [
       "<Figure size 792x360 with 1 Axes>"
      ]
     },
     "metadata": {},
     "output_type": "display_data"
    }
   ],
   "source": [
    "sns.countplot(classes)"
   ]
  },
  {
   "cell_type": "code",
   "execution_count": 122,
   "metadata": {},
   "outputs": [
    {
     "data": {
      "image/png": "[encoded data removed]",
      "text/plain": [
       "<Figure size 792x360 with 1 Axes>"
      ]
     },
     "metadata": {},
     "output_type": "display_data"
    }
   ],
   "source": [
    "plt.hist(classes,bins=31)\n",
    "plt.show()"
   ]
  },
  {
   "cell_type": "code",
   "execution_count": 123,
   "metadata": {},
   "outputs": [
    {
     "data": {
      "text/plain": [
       "[10, 10, 11, 13, 13, 14, 15, 15, 15, 17, 17, 18]"
      ]
     },
     "execution_count": 123,
     "metadata": {},
     "output_type": "execute_result"
    }
   ],
   "source": [
    "ages"
   ]
  },
  {
   "cell_type": "code",
   "execution_count": 124,
   "metadata": {},
   "outputs": [],
   "source": [
    "ages.append(17)"
   ]
  },
  {
   "cell_type": "code",
   "execution_count": 125,
   "metadata": {},
   "outputs": [
    {
     "data": {
      "text/plain": [
       "[10, 10, 11, 13, 13, 14, 15, 15, 15, 17, 17, 18, 17]"
      ]
     },
     "execution_count": 125,
     "metadata": {},
     "output_type": "execute_result"
    }
   ],
   "source": [
    "ages"
   ]
  },
  {
   "cell_type": "code",
   "execution_count": 126,
   "metadata": {},
   "outputs": [
    {
     "ename": "StatisticsError",
     "evalue": "no unique mode; found 2 equally common values",
     "output_type": "error",
     "traceback": [
      "\u001b[1;31m---------------------------------------------------------------------------\u001b[0m",
      "\u001b[1;31mStatisticsError\u001b[0m                           Traceback (most recent call last)",
      "\u001b[1;32m<ipython-input-126-03a5638ce15c>\u001b[0m in \u001b[0;36m<module>\u001b[1;34m\u001b[0m\n\u001b[1;32m----> 1\u001b[1;33m \u001b[0mmode\u001b[0m\u001b[1;33m(\u001b[0m\u001b[0mages\u001b[0m\u001b[1;33m)\u001b[0m\u001b[1;33m\u001b[0m\u001b[1;33m\u001b[0m\u001b[0m\n\u001b[0m",
      "\u001b[1;32mC:\\Anaconda\\lib\\statistics.py\u001b[0m in \u001b[0;36mmode\u001b[1;34m(data)\u001b[0m\n\u001b[0;32m    504\u001b[0m     \u001b[1;32melif\u001b[0m \u001b[0mtable\u001b[0m\u001b[1;33m:\u001b[0m\u001b[1;33m\u001b[0m\u001b[1;33m\u001b[0m\u001b[0m\n\u001b[0;32m    505\u001b[0m         raise StatisticsError(\n\u001b[1;32m--> 506\u001b[1;33m                 \u001b[1;34m'no unique mode; found %d equally common values'\u001b[0m \u001b[1;33m%\u001b[0m \u001b[0mlen\u001b[0m\u001b[1;33m(\u001b[0m\u001b[0mtable\u001b[0m\u001b[1;33m)\u001b[0m\u001b[1;33m\u001b[0m\u001b[1;33m\u001b[0m\u001b[0m\n\u001b[0m\u001b[0;32m    507\u001b[0m                 )\n\u001b[0;32m    508\u001b[0m     \u001b[1;32melse\u001b[0m\u001b[1;33m:\u001b[0m\u001b[1;33m\u001b[0m\u001b[1;33m\u001b[0m\u001b[0m\n",
      "\u001b[1;31mStatisticsError\u001b[0m: no unique mode; found 2 equally common values"
     ]
    }
   ],
   "source": [
    "mode(ages)"
   ]
  },
  {
   "cell_type": "code",
   "execution_count": 127,
   "metadata": {},
   "outputs": [],
   "source": [
    "### class statistics ---> 3 mean,median,mode\n",
    "### mode --> 2 values repeating equally --> return me the value with less, 15 --> 3, 17 --> 3,\n",
    "### return me 15"
   ]
  },
  {
   "cell_type": "code",
   "execution_count": null,
   "metadata": {},
   "outputs": [],
   "source": [
    "#### measure of spread\n",
    "#### why we do not use deviation but use standard deviation"
   ]
  }
 ],
 "metadata": {
  "kernelspec": {
   "display_name": "Python 3",
   "language": "python",
   "name": "python3"
  },
  "language_info": {
   "codemirror_mode": {
    "name": "ipython",
    "version": 3
   },
   "file_extension": ".py",
   "mimetype": "text/x-python",
   "name": "python",
   "nbconvert_exporter": "python",
   "pygments_lexer": "ipython3",
   "version": "3.7.4"
  }
 },
 "nbformat": 4,
 "nbformat_minor": 2
}
